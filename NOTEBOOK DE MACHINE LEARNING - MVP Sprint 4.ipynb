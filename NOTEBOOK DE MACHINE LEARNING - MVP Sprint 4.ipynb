{
 "cells": [
  {
   "cell_type": "markdown",
   "id": "b1595862",
   "metadata": {},
   "source": [
    "#### NOTEBOOK DE MACHINE LEARNING\n",
    "\n",
    "##### MPV - Sprint 4\n",
    "Juliana Pereira Adler (CPF 060.670.557-08)"
   ]
  },
  {
   "cell_type": "code",
   "execution_count": 1,
   "id": "638269f5",
   "metadata": {},
   "outputs": [],
   "source": [
    "# Configuração para não exibir os warnings\n",
    "import warnings\n",
    "warnings.filterwarnings(\"ignore\")\n",
    "\n",
    "# Imports necessários\n",
    "import pandas as pd\n",
    "import numpy as np\n",
    "import pickle\n",
    "import matplotlib.pyplot as plt\n",
    "from sklearn.preprocessing import LabelEncoder ## importei para encode\n",
    "from sklearn.preprocessing import StandardScaler\n",
    "from sklearn.preprocessing import MinMaxScaler\n",
    "from sklearn.model_selection import train_test_split\n",
    "from sklearn.model_selection import KFold\n",
    "from sklearn.model_selection import StratifiedKFold\n",
    "from sklearn.model_selection import cross_val_score\n",
    "from sklearn.model_selection import GridSearchCV\n",
    "from sklearn.metrics import accuracy_score\n",
    "from sklearn.pipeline import Pipeline\n",
    "from sklearn.tree import DecisionTreeClassifier\n",
    "from sklearn.neighbors import KNeighborsClassifier\n",
    "from sklearn.naive_bayes import GaussianNB\n",
    "from sklearn.svm import SVC"
   ]
  },
  {
   "cell_type": "markdown",
   "id": "aeb5a85d",
   "metadata": {},
   "source": [
    "**Heart Failure Prediction Dataset**\n",
    "\n",
    "Dataset => https://www.kaggle.com/datasets/fedesoriano/heart-failure-prediction\n",
    "\n",
    "*Informações do Dataset*<br>\n",
    "Este conjunto de dados foi criado a partir da combinação de informações provenientes de diversas fontes, incluindo o Instituto Húngaro de Cardiologia, hospitais universitários na Suíça, e o Centro Médico da VA em Long Beach e na Cleveland Clinic Foundation.<br>\n",
    "Incluem 11 características essenciais que ajudam na predição de doenças cardíacas:\n",
    "\n",
    "<u>Idade (Age)</u>: A idade do paciente em anos.<br>\n",
    "<u>Sexo (Sex)</u>: O sexo do paciente [M: Masculino, F: Feminino].\n",
    "<u>Tipo de Dor no Peito (ChestPainType)</u>: Inclui Angina Típica (TA), Angina Atípica (ATA), Dor Não Anginal (NAP) e Assintomático (ASY).<br>\n",
    "<u>Pressão Arterial em Repouso (RestingBP)</u>: Medida em mm Hg.<br>\n",
    "<u>Colesterol (Cholesterol)</u>: Medido em mm/dl.<br>\n",
    "<u>Glicemia em Jejum (FastingBS)</u>: Indica diabetes se > 120 mg/dl.<br>\n",
    "<u>ECG em Repouso (RestingECG)</u>: Inclui normal, anormalidades de onda ST-T, e hipertrofia ventricular esquerda.<br>\n",
    "<u>Frequência Cardíaca Máxima (MaxHR)</u>: Valor numérico entre 60 e 202.<br>\n",
    "<u>Angina Induzida por Exercício (ExerciseAngina)</u>: Indica a presença ou ausência de angina.<br>\n",
    "<u>Oldpeak (Oldpeak)</u>: Depressão do segmento ST medida em milímetros.<br>\n",
    "<u>Inclinação do Segmento ST (ST_Slope)</u>: Classificado como ascendente, plano ou descendente.<br>\n"
   ]
  },
  {
   "cell_type": "markdown",
   "id": "4c4e5d04",
   "metadata": {},
   "source": [
    "#### Carga do Dataset"
   ]
  },
  {
   "cell_type": "code",
   "execution_count": 2,
   "id": "ba413495",
   "metadata": {},
   "outputs": [
    {
     "data": {
      "text/html": [
       "<div>\n",
       "<style scoped>\n",
       "    .dataframe tbody tr th:only-of-type {\n",
       "        vertical-align: middle;\n",
       "    }\n",
       "\n",
       "    .dataframe tbody tr th {\n",
       "        vertical-align: top;\n",
       "    }\n",
       "\n",
       "    .dataframe thead th {\n",
       "        text-align: right;\n",
       "    }\n",
       "</style>\n",
       "<table border=\"1\" class=\"dataframe\">\n",
       "  <thead>\n",
       "    <tr style=\"text-align: right;\">\n",
       "      <th></th>\n",
       "      <th>Age</th>\n",
       "      <th>Sex</th>\n",
       "      <th>ChestPainType</th>\n",
       "      <th>RestingBP</th>\n",
       "      <th>Cholesterol</th>\n",
       "      <th>FastingBS</th>\n",
       "      <th>RestingECG</th>\n",
       "      <th>MaxHR</th>\n",
       "      <th>ExerciseAngina</th>\n",
       "      <th>Oldpeak</th>\n",
       "      <th>ST_Slope</th>\n",
       "      <th>HeartDisease</th>\n",
       "    </tr>\n",
       "  </thead>\n",
       "  <tbody>\n",
       "    <tr>\n",
       "      <th>0</th>\n",
       "      <td>40</td>\n",
       "      <td>M</td>\n",
       "      <td>ATA</td>\n",
       "      <td>140</td>\n",
       "      <td>289</td>\n",
       "      <td>0</td>\n",
       "      <td>Normal</td>\n",
       "      <td>172</td>\n",
       "      <td>N</td>\n",
       "      <td>0.0</td>\n",
       "      <td>Up</td>\n",
       "      <td>0</td>\n",
       "    </tr>\n",
       "    <tr>\n",
       "      <th>1</th>\n",
       "      <td>49</td>\n",
       "      <td>F</td>\n",
       "      <td>NAP</td>\n",
       "      <td>160</td>\n",
       "      <td>180</td>\n",
       "      <td>0</td>\n",
       "      <td>Normal</td>\n",
       "      <td>156</td>\n",
       "      <td>N</td>\n",
       "      <td>1.0</td>\n",
       "      <td>Flat</td>\n",
       "      <td>1</td>\n",
       "    </tr>\n",
       "    <tr>\n",
       "      <th>2</th>\n",
       "      <td>37</td>\n",
       "      <td>M</td>\n",
       "      <td>ATA</td>\n",
       "      <td>130</td>\n",
       "      <td>283</td>\n",
       "      <td>0</td>\n",
       "      <td>ST</td>\n",
       "      <td>98</td>\n",
       "      <td>N</td>\n",
       "      <td>0.0</td>\n",
       "      <td>Up</td>\n",
       "      <td>0</td>\n",
       "    </tr>\n",
       "    <tr>\n",
       "      <th>3</th>\n",
       "      <td>48</td>\n",
       "      <td>F</td>\n",
       "      <td>ASY</td>\n",
       "      <td>138</td>\n",
       "      <td>214</td>\n",
       "      <td>0</td>\n",
       "      <td>Normal</td>\n",
       "      <td>108</td>\n",
       "      <td>Y</td>\n",
       "      <td>1.5</td>\n",
       "      <td>Flat</td>\n",
       "      <td>1</td>\n",
       "    </tr>\n",
       "    <tr>\n",
       "      <th>4</th>\n",
       "      <td>54</td>\n",
       "      <td>M</td>\n",
       "      <td>NAP</td>\n",
       "      <td>150</td>\n",
       "      <td>195</td>\n",
       "      <td>0</td>\n",
       "      <td>Normal</td>\n",
       "      <td>122</td>\n",
       "      <td>N</td>\n",
       "      <td>0.0</td>\n",
       "      <td>Up</td>\n",
       "      <td>0</td>\n",
       "    </tr>\n",
       "  </tbody>\n",
       "</table>\n",
       "</div>"
      ],
      "text/plain": [
       "   Age Sex ChestPainType  RestingBP  Cholesterol  FastingBS RestingECG  MaxHR  \\\n",
       "0   40   M           ATA        140          289          0     Normal    172   \n",
       "1   49   F           NAP        160          180          0     Normal    156   \n",
       "2   37   M           ATA        130          283          0         ST     98   \n",
       "3   48   F           ASY        138          214          0     Normal    108   \n",
       "4   54   M           NAP        150          195          0     Normal    122   \n",
       "\n",
       "  ExerciseAngina  Oldpeak ST_Slope  HeartDisease  \n",
       "0              N      0.0       Up             0  \n",
       "1              N      1.0     Flat             1  \n",
       "2              N      0.0       Up             0  \n",
       "3              Y      1.5     Flat             1  \n",
       "4              N      0.0       Up             0  "
      ]
     },
     "execution_count": 2,
     "metadata": {},
     "output_type": "execute_result"
    }
   ],
   "source": [
    "# Informa a URL de importação do dataset\n",
    "url = \"HeartFailurePredictionDataset.csv\"\n",
    "\n",
    "# Lê o arquivo\n",
    "dataset = pd.read_csv(url, delimiter=',')\n",
    "\n",
    "# Mostra as primeiras linhas do dataset\n",
    "dataset.head()"
   ]
  },
  {
   "cell_type": "code",
   "execution_count": 4,
   "id": "ee34e9ac",
   "metadata": {},
   "outputs": [
    {
     "name": "stdout",
     "output_type": "stream",
     "text": [
      "Entradas:  918 dados\n",
      "Variáveis:  12 colunas \n",
      "\n"
     ]
    },
    {
     "data": {
      "text/plain": [
       "Age                 int64\n",
       "Sex                object\n",
       "ChestPainType      object\n",
       "RestingBP           int64\n",
       "Cholesterol         int64\n",
       "FastingBS           int64\n",
       "RestingECG         object\n",
       "MaxHR               int64\n",
       "ExerciseAngina     object\n",
       "Oldpeak           float64\n",
       "ST_Slope           object\n",
       "HeartDisease        int64\n",
       "dtype: object"
      ]
     },
     "metadata": {},
     "output_type": "display_data"
    },
    {
     "name": "stdout",
     "output_type": "stream",
     "text": [
      "---------\n",
      "Age               0\n",
      "Sex               0\n",
      "ChestPainType     0\n",
      "RestingBP         0\n",
      "Cholesterol       0\n",
      "FastingBS         0\n",
      "RestingECG        0\n",
      "MaxHR             0\n",
      "ExerciseAngina    0\n",
      "Oldpeak           0\n",
      "ST_Slope          0\n",
      "HeartDisease      0\n",
      "dtype: int64\n",
      "---------\n",
      "Age                50\n",
      "Sex                 2\n",
      "ChestPainType       4\n",
      "RestingBP          67\n",
      "Cholesterol       222\n",
      "FastingBS           2\n",
      "RestingECG          3\n",
      "MaxHR             119\n",
      "ExerciseAngina      2\n",
      "Oldpeak            53\n",
      "ST_Slope            3\n",
      "HeartDisease        2\n",
      "dtype: int64\n"
     ]
    }
   ],
   "source": [
    "# Identificar o volume de dados do DataFrame\n",
    "print(\"Entradas: \", dataset.shape[0], \"dados\")\n",
    "print(\"Variáveis: \", dataset.shape[1], \"colunas \\n\")\n",
    "\n",
    "# Verificar os tipos de cada variável (coluna)\n",
    "display(dataset.dtypes)\n",
    "\n",
    "# Verificando se há valores nan no conjunto de dados\n",
    "print(\"---------\")\n",
    "print(dataset.isna().sum())\n",
    "\n",
    "# Verificando os valores únicos em cada coluna\n",
    "uniqueValues = dataset.nunique()\n",
    "print(\"---------\")\n",
    "print(uniqueValues)"
   ]
  },
  {
   "cell_type": "code",
   "execution_count": 5,
   "id": "d5454e50",
   "metadata": {},
   "outputs": [],
   "source": [
    "# LabelEncoder\n",
    "# Aplicar LabelEncoder na colunas que tem texto\n",
    "\n",
    "encoder = LabelEncoder()\n",
    "dataset['Sex'] = encoder.fit_transform(dataset['Sex'])\n",
    "# M=1 F=0\n",
    "dataset['ChestPainType'] = encoder.fit_transform(dataset['ChestPainType'])\n",
    "# TA=3 ATA=1 NAP=2 ASY=0\n",
    "dataset['RestingECG'] = encoder.fit_transform(dataset['RestingECG'])\n",
    "# Normal=1 ST=2 LVH=0\n",
    "dataset['ST_Slope'] = encoder.fit_transform(dataset['ST_Slope'])\n",
    "# Flat=1 Up=2 Down=0\n",
    "dataset['ExerciseAngina'] = encoder.fit_transform(dataset['ExerciseAngina'])\n",
    "# N=0 Y=1"
   ]
  },
  {
   "cell_type": "code",
   "execution_count": 6,
   "id": "2ce858ce",
   "metadata": {
    "scrolled": true
   },
   "outputs": [
    {
     "data": {
      "text/html": [
       "<div>\n",
       "<style scoped>\n",
       "    .dataframe tbody tr th:only-of-type {\n",
       "        vertical-align: middle;\n",
       "    }\n",
       "\n",
       "    .dataframe tbody tr th {\n",
       "        vertical-align: top;\n",
       "    }\n",
       "\n",
       "    .dataframe thead th {\n",
       "        text-align: right;\n",
       "    }\n",
       "</style>\n",
       "<table border=\"1\" class=\"dataframe\">\n",
       "  <thead>\n",
       "    <tr style=\"text-align: right;\">\n",
       "      <th></th>\n",
       "      <th>Age</th>\n",
       "      <th>Sex</th>\n",
       "      <th>ChestPainType</th>\n",
       "      <th>RestingBP</th>\n",
       "      <th>Cholesterol</th>\n",
       "      <th>FastingBS</th>\n",
       "      <th>RestingECG</th>\n",
       "      <th>MaxHR</th>\n",
       "      <th>ExerciseAngina</th>\n",
       "      <th>Oldpeak</th>\n",
       "      <th>ST_Slope</th>\n",
       "      <th>HeartDisease</th>\n",
       "    </tr>\n",
       "  </thead>\n",
       "  <tbody>\n",
       "    <tr>\n",
       "      <th>0</th>\n",
       "      <td>40</td>\n",
       "      <td>1</td>\n",
       "      <td>1</td>\n",
       "      <td>140</td>\n",
       "      <td>289</td>\n",
       "      <td>0</td>\n",
       "      <td>1</td>\n",
       "      <td>172</td>\n",
       "      <td>0</td>\n",
       "      <td>0.0</td>\n",
       "      <td>2</td>\n",
       "      <td>0</td>\n",
       "    </tr>\n",
       "    <tr>\n",
       "      <th>1</th>\n",
       "      <td>49</td>\n",
       "      <td>0</td>\n",
       "      <td>2</td>\n",
       "      <td>160</td>\n",
       "      <td>180</td>\n",
       "      <td>0</td>\n",
       "      <td>1</td>\n",
       "      <td>156</td>\n",
       "      <td>0</td>\n",
       "      <td>1.0</td>\n",
       "      <td>1</td>\n",
       "      <td>1</td>\n",
       "    </tr>\n",
       "    <tr>\n",
       "      <th>2</th>\n",
       "      <td>37</td>\n",
       "      <td>1</td>\n",
       "      <td>1</td>\n",
       "      <td>130</td>\n",
       "      <td>283</td>\n",
       "      <td>0</td>\n",
       "      <td>2</td>\n",
       "      <td>98</td>\n",
       "      <td>0</td>\n",
       "      <td>0.0</td>\n",
       "      <td>2</td>\n",
       "      <td>0</td>\n",
       "    </tr>\n",
       "    <tr>\n",
       "      <th>3</th>\n",
       "      <td>48</td>\n",
       "      <td>0</td>\n",
       "      <td>0</td>\n",
       "      <td>138</td>\n",
       "      <td>214</td>\n",
       "      <td>0</td>\n",
       "      <td>1</td>\n",
       "      <td>108</td>\n",
       "      <td>1</td>\n",
       "      <td>1.5</td>\n",
       "      <td>1</td>\n",
       "      <td>1</td>\n",
       "    </tr>\n",
       "    <tr>\n",
       "      <th>4</th>\n",
       "      <td>54</td>\n",
       "      <td>1</td>\n",
       "      <td>2</td>\n",
       "      <td>150</td>\n",
       "      <td>195</td>\n",
       "      <td>0</td>\n",
       "      <td>1</td>\n",
       "      <td>122</td>\n",
       "      <td>0</td>\n",
       "      <td>0.0</td>\n",
       "      <td>2</td>\n",
       "      <td>0</td>\n",
       "    </tr>\n",
       "  </tbody>\n",
       "</table>\n",
       "</div>"
      ],
      "text/plain": [
       "   Age  Sex  ChestPainType  RestingBP  Cholesterol  FastingBS  RestingECG  \\\n",
       "0   40    1              1        140          289          0           1   \n",
       "1   49    0              2        160          180          0           1   \n",
       "2   37    1              1        130          283          0           2   \n",
       "3   48    0              0        138          214          0           1   \n",
       "4   54    1              2        150          195          0           1   \n",
       "\n",
       "   MaxHR  ExerciseAngina  Oldpeak  ST_Slope  HeartDisease  \n",
       "0    172               0      0.0         2             0  \n",
       "1    156               0      1.0         1             1  \n",
       "2     98               0      0.0         2             0  \n",
       "3    108               1      1.5         1             1  \n",
       "4    122               0      0.0         2             0  "
      ]
     },
     "execution_count": 6,
     "metadata": {},
     "output_type": "execute_result"
    }
   ],
   "source": [
    "dataset.head()"
   ]
  },
  {
   "cell_type": "code",
   "execution_count": 6,
   "id": "89e59503",
   "metadata": {},
   "outputs": [],
   "source": [
    "dataset.to_csv('HeartFailurePredictionDataset_golden.csv', index=False)"
   ]
  },
  {
   "cell_type": "markdown",
   "id": "2d2c854d",
   "metadata": {},
   "source": [
    "#### Separação em conjunto de treino e conjunto de teste com holdout"
   ]
  },
  {
   "cell_type": "code",
   "execution_count": 6,
   "id": "e72c7ab1",
   "metadata": {},
   "outputs": [],
   "source": [
    "test_size = 0.20 # tamanho do conjunto de teste\n",
    "seed = 7 # semente aleatória\n",
    "\n",
    "# Separação em conjuntos de treino e teste\n",
    "array = dataset.values\n",
    "X = array[:,0:11] \n",
    "y = array[:,11]\n",
    "X_train, X_test, y_train, y_test = train_test_split(X, y,\n",
    "    test_size=test_size, shuffle=True, random_state=seed, stratify=y) # holdout com estratificação\n",
    "\n",
    "# Parâmetros e partições da validação cruzada\n",
    "scoring = 'accuracy'\n",
    "num_particoes = 10\n",
    "kfold = StratifiedKFold(n_splits=num_particoes, shuffle=True, random_state=seed) # validação cruzada com estratificação"
   ]
  },
  {
   "cell_type": "markdown",
   "id": "6150a9b8",
   "metadata": {},
   "source": [
    "#### Modelagem e Inferência\n",
    "##### Criação e avaliação de modelos: linha base"
   ]
  },
  {
   "cell_type": "code",
   "execution_count": 7,
   "id": "4f40378e",
   "metadata": {
    "scrolled": true
   },
   "outputs": [
    {
     "name": "stdout",
     "output_type": "stream",
     "text": [
      "KNN: 0.712440 (0.050166)\n",
      "CART: 0.809348 (0.036109)\n",
      "NB: 0.852962 (0.042897)\n",
      "SVM: 0.728971 (0.030971)\n"
     ]
    },
    {
     "data": {
      "image/png": "[encoded data removed]",
      "text/plain": [
       "<Figure size 1080x720 with 1 Axes>"
      ]
     },
     "metadata": {
      "needs_background": "light"
     },
     "output_type": "display_data"
    }
   ],
   "source": [
    "np.random.seed(7) # definindo uma semente global\n",
    "\n",
    "# Lista que armazenará os modelos\n",
    "models = []\n",
    "\n",
    "# Criando os modelos e adicionando-os na lista de modelos\n",
    "models.append(('KNN', KNeighborsClassifier()))\n",
    "models.append(('CART', DecisionTreeClassifier()))\n",
    "models.append(('NB', GaussianNB()))\n",
    "models.append(('SVM', SVC()))\n",
    "\n",
    "# Listas para armazenar os resultados\n",
    "results = []\n",
    "names = []\n",
    "\n",
    "# Avaliação dos modelos\n",
    "for name, model in models:\n",
    "    cv_results = cross_val_score(model, X_train, y_train, cv=kfold, scoring=scoring)\n",
    "    results.append(cv_results)\n",
    "    names.append(name)\n",
    "    msg = \"%s: %f (%f)\" % (name, cv_results.mean(), cv_results.std())\n",
    "    print(msg)\n",
    "\n",
    "# Boxplot de comparação dos modelos\n",
    "fig = plt.figure(figsize=(15,10))\n",
    "fig.suptitle('Comparação dos Modelos')\n",
    "ax = fig.add_subplot(111)\n",
    "plt.boxplot(results)\n",
    "ax.set_xticklabels(names)\n",
    "plt.show()"
   ]
  },
  {
   "cell_type": "markdown",
   "id": "64c689a9",
   "metadata": {},
   "source": [
    "##### Criação e avaliação de modelos: dados padronizados e normalizados"
   ]
  },
  {
   "cell_type": "code",
   "execution_count": 8,
   "id": "457feeef",
   "metadata": {},
   "outputs": [
    {
     "name": "stdout",
     "output_type": "stream",
     "text": [
      "KNN-orig: 0.712 (0.050)\n",
      "CART-orig: 0.809 (0.036)\n",
      "NB-orig: 0.853 (0.043)\n",
      "SVM-orig: 0.729 (0.031)\n",
      "KNN-padr: 0.857 (0.032)\n",
      "CART-padr: 0.798 (0.025)\n",
      "NB-padr: 0.853 (0.043)\n",
      "SVM-padr: 0.868 (0.033)\n",
      "KNN-norm: 0.849 (0.033)\n",
      "CART-norm: 0.801 (0.040)\n",
      "NB-norm: 0.853 (0.043)\n",
      "SVM-norm: 0.865 (0.040)\n"
     ]
    },
    {
     "data": {
      "image/png": "[encoded data removed]",
      "text/plain": [
       "<Figure size 1800x432 with 1 Axes>"
      ]
     },
     "metadata": {
      "needs_background": "light"
     },
     "output_type": "display_data"
    }
   ],
   "source": [
    "np.random.seed(7) # definindo uma semente global para este bloco\n",
    "\n",
    "# Listas para armazenar os armazenar os pipelines e os resultados para todas as visões do dataset\n",
    "pipelines = []\n",
    "results = []\n",
    "names = []\n",
    "\n",
    "\n",
    "# Criando os elementos do pipeline\n",
    "\n",
    "# Algoritmos que serão utilizados\n",
    "knn = ('KNN', KNeighborsClassifier())\n",
    "cart = ('CART', DecisionTreeClassifier())\n",
    "naive_bayes = ('NB', GaussianNB())\n",
    "svm = ('SVM', SVC())\n",
    "\n",
    "# Transformações que serão utilizadas\n",
    "standard_scaler = ('StandardScaler', StandardScaler())\n",
    "min_max_scaler = ('MinMaxScaler', MinMaxScaler())\n",
    "\n",
    "\n",
    "# Montando os pipelines\n",
    "\n",
    "# Dataset original\n",
    "pipelines.append(('KNN-orig', Pipeline([knn])))\n",
    "pipelines.append(('CART-orig', Pipeline([cart])))\n",
    "pipelines.append(('NB-orig', Pipeline([naive_bayes])))\n",
    "pipelines.append(('SVM-orig', Pipeline([svm])))\n",
    "\n",
    "# Dataset Padronizado\n",
    "pipelines.append(('KNN-padr', Pipeline([standard_scaler, knn])))\n",
    "pipelines.append(('CART-padr', Pipeline([standard_scaler, cart])))\n",
    "pipelines.append(('NB-padr', Pipeline([standard_scaler, naive_bayes])))\n",
    "pipelines.append(('SVM-padr', Pipeline([standard_scaler, svm])))\n",
    "\n",
    "# Dataset Normalizado\n",
    "pipelines.append(('KNN-norm', Pipeline([min_max_scaler, knn])))\n",
    "pipelines.append(('CART-norm', Pipeline([min_max_scaler, cart])))\n",
    "pipelines.append(('NB-norm', Pipeline([min_max_scaler, naive_bayes])))\n",
    "pipelines.append(('SVM-norm', Pipeline([min_max_scaler, svm])))\n",
    "\n",
    "# Executando os pipelines\n",
    "for name, model in pipelines:\n",
    "    cv_results = cross_val_score(model, X_train, y_train, cv=kfold, scoring=scoring)\n",
    "    results.append(cv_results)\n",
    "    names.append(name)\n",
    "    msg = \"%s: %.3f (%.3f)\" % (name, cv_results.mean(), cv_results.std()) # formatando para 3 casas decimais\n",
    "    print(msg)\n",
    "\n",
    "# Boxplot de comparação dos modelos\n",
    "fig = plt.figure(figsize=(25,6))\n",
    "fig.suptitle('Comparação dos Modelos - Dataset orginal, padronizado e normalizado')\n",
    "ax = fig.add_subplot(111)\n",
    "plt.boxplot(results)\n",
    "ax.set_xticklabels(names, rotation=90)\n",
    "plt.show()"
   ]
  },
  {
   "cell_type": "markdown",
   "id": "6d83194a",
   "metadata": {},
   "source": [
    "#### Otimização dos hiperparâmetros"
   ]
  },
  {
   "cell_type": "code",
   "execution_count": 10,
   "id": "caf6a9f1",
   "metadata": {},
   "outputs": [
    {
     "name": "stdout",
     "output_type": "stream",
     "text": [
      "Modelo: knn-orig - Melhor: 0.761699 usando {'KNN__metric': 'manhattan', 'KNN__n_neighbors': 21}\n",
      "Modelo: knn-padr - Melhor: 0.881470 usando {'KNN__metric': 'manhattan', 'KNN__n_neighbors': 17}\n",
      "Modelo: knn-norm - Melhor: 0.863773 usando {'KNN__metric': 'manhattan', 'KNN__n_neighbors': 17}\n"
     ]
    }
   ],
   "source": [
    "# Tuning do KNN\n",
    "\n",
    "np.random.seed(7) # definindo uma semente global para este bloco\n",
    "\n",
    "pipelines = []\n",
    "\n",
    "# Definindo os componentes do pipeline\n",
    "knn = ('KNN', KNeighborsClassifier())\n",
    "standard_scaler = ('StandardScaler', StandardScaler())\n",
    "min_max_scaler = ('MinMaxScaler', MinMaxScaler())\n",
    "\n",
    "pipelines.append(('knn-orig', Pipeline(steps=[knn])))\n",
    "pipelines.append(('knn-padr', Pipeline(steps=[standard_scaler, knn])))\n",
    "pipelines.append(('knn-norm', Pipeline(steps=[min_max_scaler, knn])))\n",
    "\n",
    "param_grid = {\n",
    "    'KNN__n_neighbors': [1,3,5,7,9,11,13,15,17,19,21],\n",
    "    'KNN__metric': [\"euclidean\", \"manhattan\", \"minkowski\"],\n",
    "}\n",
    "\n",
    "# Prepara e executa o GridSearchCV\n",
    "for name, model in pipelines:\n",
    "    grid = GridSearchCV(estimator=model, param_grid=param_grid, scoring=scoring, cv=kfold)\n",
    "    grid.fit(X_train, y_train)\n",
    "    # imprime a melhor configuração\n",
    "    print(\"Modelo: %s - Melhor: %f usando %s\" % (name, grid.best_score_, grid.best_params_))"
   ]
  },
  {
   "cell_type": "code",
   "execution_count": 11,
   "id": "a79d27ee",
   "metadata": {},
   "outputs": [],
   "source": [
    "#Melhor: Modelo: knn-padr - Melhor: 0.881470 usando {'KNN__metric': 'manhattan', 'KNN__n_neighbors': 17}"
   ]
  },
  {
   "cell_type": "markdown",
   "id": "8f872b67",
   "metadata": {},
   "source": [
    "#### Finalização do Modelo"
   ]
  },
  {
   "cell_type": "code",
   "execution_count": 12,
   "id": "c8d229a1",
   "metadata": {},
   "outputs": [
    {
     "name": "stdout",
     "output_type": "stream",
     "text": [
      "0.875\n"
     ]
    }
   ],
   "source": [
    "# Avaliação do modelo com o conjunto de testes\n",
    "\n",
    "# Preparação do modelo\n",
    "scaler = StandardScaler().fit(X_train) # ajuste do scaler com o conjunto de treino\n",
    "rescaledX = scaler.transform(X_train) # aplicação da padronização no conjunto de treino\n",
    "model = KNeighborsClassifier(metric='manhattan', n_neighbors=17)\n",
    "model.fit(rescaledX, y_train)\n",
    "\n",
    "# Estimativa da acurácia no conjunto de teste\n",
    "rescaledTestX = scaler.transform(X_test) # aplicação da padronização no conjunto de teste\n",
    "predictions = model.predict(rescaledTestX)\n",
    "print(accuracy_score(y_test, predictions))"
   ]
  },
  {
   "cell_type": "code",
   "execution_count": 13,
   "id": "7fa83052",
   "metadata": {},
   "outputs": [
    {
     "data": {
      "text/plain": [
       "KNeighborsClassifier(metric='manhattan', n_neighbors=17)"
      ]
     },
     "execution_count": 13,
     "metadata": {},
     "output_type": "execute_result"
    }
   ],
   "source": [
    "# Preparação do modelo com TODO o dataset\n",
    "scaler = StandardScaler().fit(X) # ajuste do scaler com TODO o dataset\n",
    "rescaledX = scaler.transform(X) # aplicação da padronização com TODO o dataset\n",
    "model.fit(rescaledX, y)"
   ]
  },
  {
   "cell_type": "markdown",
   "id": "92b3a942",
   "metadata": {},
   "source": [
    "#### Simulando a aplicação do modelo em dados não vistos"
   ]
  },
  {
   "cell_type": "code",
   "execution_count": 18,
   "id": "5cb30cf2",
   "metadata": {},
   "outputs": [
    {
     "name": "stdout",
     "output_type": "stream",
     "text": [
      "[[-2.2817231  -1.93816322 -0.81699495 -0.66993455 -0.52869702 -0.55134134\n",
      "  -1.56670996 -2.23250548  1.21424608 -0.83243239 -2.24427006]\n",
      " [-3.55459806  0.51595242 -0.81699495 -0.66993455 -0.52869702 -0.55134134\n",
      "  -1.56670996 -0.66057778 -0.8235563  -0.83243239 -2.24427006]\n",
      " [-3.66067097 -1.93816322 -0.81699495 -0.66993455  1.84039572  1.81375843\n",
      "   0.01725451  2.4832776  -0.8235563  -0.83243239 -2.24427006]]\n"
     ]
    }
   ],
   "source": [
    "# Novos dados - não sabemos a classe!\n",
    "data = {'Age':  [32, 20, 19],\n",
    "        'Sex': [0, 1, 0],\n",
    "        'ChestPainType': [0, 0, 0],\n",
    "        'RestingBP': [120, 120, 120],\n",
    "        'Cholesterol': [141, 141, 400],\n",
    "        'FastingBS': [0, 0, 1],\n",
    "        'RestingECG': [0, 0, 1],\n",
    "        'MaxHR': [80, 120, 200],\n",
    "        'ExerciseAngina': [1, 0, 0],\n",
    "        'Oldpeak': [0, 0, 0],\n",
    "        'ST_Slope': [0, 0, 0],\n",
    "        }\n",
    "\n",
    "atributos = ['Age', 'Sex', 'ChestPainType', 'RestingBP', 'Cholesterol', 'FastingBS', 'RestingECG', 'MaxHR', 'ExerciseAngina', \n",
    "             'Oldpeak', 'ST_Slope']\n",
    "entrada = pd.DataFrame(data, columns=atributos)\n",
    "\n",
    "array_entrada = entrada.values\n",
    "X_entrada = array_entrada[:,:].astype(float)\n",
    "\n",
    "# Padronização nos dados de entrada usando o scaler utilizado em X\n",
    "rescaledEntradaX = scaler.transform(X_entrada)\n",
    "print(rescaledEntradaX)"
   ]
  },
  {
   "cell_type": "code",
   "execution_count": 19,
   "id": "183925f9",
   "metadata": {},
   "outputs": [
    {
     "name": "stdout",
     "output_type": "stream",
     "text": [
      "[1. 1. 0.]\n"
     ]
    }
   ],
   "source": [
    "# Predição de classes dos dados de entrada\n",
    "saidas = model.predict(rescaledEntradaX)\n",
    "print(saidas)"
   ]
  },
  {
   "cell_type": "markdown",
   "id": "e93097b2",
   "metadata": {},
   "source": [
    "#### Exportar Modelo\n"
   ]
  },
  {
   "cell_type": "code",
   "execution_count": 22,
   "id": "c0b55f32",
   "metadata": {},
   "outputs": [],
   "source": [
    "# Salvando o modelo treinado em um arquivo\n",
    "pickle_out = open('model.pkl', 'wb')\n",
    "pickle.dump(model, pickle_out)\n",
    "pickle_out.close()"
   ]
  }
 ],
 "metadata": {
  "kernelspec": {
   "display_name": "Python 3",
   "language": "python",
   "name": "python3"
  },
  "language_info": {
   "codemirror_mode": {
    "name": "ipython",
    "version": 3
   },
   "file_extension": ".py",
   "mimetype": "text/x-python",
   "name": "python",
   "nbconvert_exporter": "python",
   "pygments_lexer": "ipython3",
   "version": "3.8.3"
  }
 },
 "nbformat": 4,
 "nbformat_minor": 5
}
